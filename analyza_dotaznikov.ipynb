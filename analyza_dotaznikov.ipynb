{
 "cells": [
  {
   "cell_type": "code",
   "execution_count": null,
   "metadata": {},
   "outputs": [],
   "source": [
    "import pandas as pd\n",
    "import matplotlib.pyplot as plt\n",
    "import numpy as np"
   ]
  },
  {
   "cell_type": "code",
   "execution_count": null,
   "metadata": {},
   "outputs": [],
   "source": [
    "google_dotaznik=pd.read_csv(\"./dotaznik/dp_google_dotaznik.csv\")"
   ]
  },
  {
   "cell_type": "markdown",
   "metadata": {},
   "source": [
    "V tejto časti kódu sa ukazuje vizualizácia výstupov pre jednotlivé otázky. Pre zmenu otázky stačí zmeniť pole \"otázka\" na otázku z datasetu."
   ]
  },
  {
   "cell_type": "code",
   "execution_count": null,
   "metadata": {},
   "outputs": [],
   "source": [
    "import pandas as pd\n",
    "import matplotlib.pyplot as plt\n",
    "\n",
    "Otazka='Ktorý z výstupov vyzerá najviac ako autentický prejav ľudského rečníka?'\n",
    "df = pd.DataFrame(google_dotaznik[[f'{Otazka}',f'{Otazka}.1']])\n",
    "\n",
    "vystup_order = [\"Výstup 1\", \"Výstup 2\", \"Výstup 3\"]\n",
    "\n",
    "# Usporiadanie dat v datasete a vyber vystupov\n",
    "counts_col1 = df.iloc[:,0].value_counts().reindex(vystup_order, fill_value=0)\n",
    "\n",
    "# Usporiadanie dat v datasete  a vyber vystupov\n",
    "counts_col2 = df.iloc[:,1].value_counts().reindex(vystup_order, fill_value=0)\n",
    "\n",
    "plt.figure(figsize=(10,6))\n",
    "\n",
    "bar_width = 0.4\n",
    "\n",
    "# Vypocet pozicie v grafe\n",
    "positions_col1 = range(len(vystup_order))\n",
    "positions_col2 = [pos + bar_width for pos in positions_col1]\n",
    "print(counts_col1)\n",
    "plt.bar(positions_col1, counts_col1, color='purple', width=bar_width, label='GEMINI')\n",
    "plt.bar(positions_col2, counts_col2, color='green', width=bar_width, label='GPT')\n",
    "\n",
    "# Oznacnie grafu\n",
    "plt.xlabel('Výstupy', fontweight='bold')\n",
    "plt.ylabel('Počet', fontweight='bold')\n",
    "plt.title(f'{Otazka}')\n",
    "plt.xticks([pos + bar_width / 2 for pos in positions_col1], vystup_order)\n",
    "\n",
    "# Pridanie legendy\n",
    "plt.legend()\n",
    "\n",
    "# Ukazanie grafu\n",
    "plt.show()\n"
   ]
  },
  {
   "cell_type": "code",
   "execution_count": null,
   "metadata": {},
   "outputs": [],
   "source": [
    "#Zoznam otazok v datasete\n",
    "questions_list=['Ktorý výstup vyzerá najprirodzenejšie a najmenej „umelý“ vo svojom prejave?',\n",
    "       'Ktorý výstup obsahuje najmenej gramatických chýb alebo nezmyselných fráz?',\n",
    "       'Ktorý z výstupov preukazuje najlepšiu schopnosť porozumieť kontextu a uviesť relevantné informácie?',\n",
    "       'Ktorý výstup zdôrazňuje najlepšie možnosti riešenia problémov alebo poskytuje najpresnejšie informácie?',\n",
    "       'Ktorý výstup vzbudzuje najväčšiu dôveru voči svojmu obsahu a prezentácii informácií?',\n",
    "       'Ktorý výstup je najlepšie štrukturovaný a organizovaný, čo uľahčuje pochopenie informácií?',\n",
    "       'Ktorý z výstupov vyzerá najviac ako autentický prejav ľudského rečníka?',]"
   ]
  },
  {
   "cell_type": "code",
   "execution_count": null,
   "metadata": {},
   "outputs": [],
   "source": [
    "question_merge = {}\n",
    "for Otazka in questions_list:\n",
    "    question_merge[Otazka] = pd.concat([google_dotaznik[Otazka], google_dotaznik[f'{Otazka}.1']], axis=0)\n",
    "\n",
    "question_merge_df = pd.DataFrame(question_merge)\n",
    "\n",
    "#print(question_merge_df)"
   ]
  },
  {
   "cell_type": "markdown",
   "metadata": {},
   "source": [
    "\n",
    "Výpočet percentuálneho rozdelenia výstupu na všetky odpovede od študentov.\n"
   ]
  },
  {
   "cell_type": "code",
   "execution_count": null,
   "metadata": {},
   "outputs": [],
   "source": [
    "import pandas as pd\n",
    "import matplotlib.pyplot as plt\n",
    "google_dotaznik = google_dotaznik.drop(google_dotaznik.columns[0], axis=1)\n",
    "merged_column = pd.concat([google_dotaznik[col] for col in google_dotaznik.columns], axis=0)\n",
    "\n",
    "total_count = merged_column.value_counts().sum()\n",
    "\n",
    "percentages = (merged_column.value_counts() / total_count) * 100\n",
    "print(percentages)\n",
    "plt.figure(figsize=(10, 6))\n",
    "percentages.plot(kind='bar', color='b')\n",
    "plt.title('Percentualne rozdelenie vyberu odpovedi')\n",
    "plt.ylabel('Percentage')\n",
    "plt.xlabel('Responses')\n",
    "plt.xticks(rotation=45)\n",
    "plt.tight_layout()\n",
    "\n",
    "plt.show()"
   ]
  },
  {
   "cell_type": "code",
   "execution_count": null,
   "metadata": {},
   "outputs": [],
   "source": [
    "chatbot_test=pd.read_csv(\"./dotaznik/Diplomovka-test.csv\")\n",
    "chatbot_test = chatbot_test.drop('Unnamed: 18', axis=1)"
   ]
  },
  {
   "cell_type": "code",
   "execution_count": null,
   "metadata": {},
   "outputs": [],
   "source": [
    "chatbot_list=['Ako by ste popísali svoju celkovú spokojnosť s používaním tohto modelu na generovanie textu?',\n",
    "       'Ako by ste ohodnotili gramatickú správnosť a plynulosť výstupov modelu?',\n",
    "       'Sú výstupy modelu informatívne a zrozumiteľné? Ako by ste ich ohodnotili z hľadiska zmysluplnosti?',\n",
    "       'Ako by ste zhodnotili schopnosť modelu generovať relevantné odpovede na základe vašich vstupných otázok alebo informácií?',\n",
    "       'Ako jednoduché je porozumenie vystupov modelu?',\n",
    "       'Akú mieru dôveryhodnosti priradíte výstupom modelu na základe ich relevancie k vašim potrebám alebo otázke?',\n",
    "       'Ako by ste popísali svoju celkovú spokojnosť s používaním tohto modelu na generovanie textu?.1',\n",
    "       'Ako by ste ohodnotili gramatickú správnosť a plynulosť výstupov modelu?.1',\n",
    "       'Sú výstupy modelu informatívne a zrozumiteľné? Ako by ste ich ohodnotili z hľadiska zmysluplnosti?.1',\n",
    "       'Ako by ste zhodnotili schopnosť modelu generovať relevantné odpovede na základe vašich vstupných otázok alebo informácií?.1',\n",
    "       'Ako jednoduché je porozumenie vystupov modelu?.1',\n",
    "       'Akú mieru dôveryhodnosti priradíte výstupom modelu na základe ich relevancie k vašim potrebám alebo otázke?.1',\n",
    "       'S ktorym modelom a jeho vystupmy ste boli spokojnejsi?',\n",
    "       'Ktory model produkoval gramaticky správny a  plynulejši výstup?',\n",
    "       'Ktory model produkoval zmysluplnejší výstup?',\n",
    "       'Ktorý model produkoval relevantnejšie odpovode na Váš vstup?',\n",
    "       'Ktorý model mal jednoduchší výstup na pochopenie?',\n",
    "       'Ktorý model produkoval dôverihodnejší výstup?']"
   ]
  },
  {
   "cell_type": "code",
   "execution_count": null,
   "metadata": {},
   "outputs": [],
   "source": []
  },
  {
   "cell_type": "markdown",
   "metadata": {},
   "source": [
    "Zobrazenie najviac vyberaneho vystupu pri jednotlivych otazkach"
   ]
  },
  {
   "cell_type": "code",
   "execution_count": null,
   "metadata": {},
   "outputs": [],
   "source": [
    "average_answers = chatbot_test.apply(lambda x: x.value_counts(normalize=True).idxmax())\n",
    "print(average_answers)"
   ]
  },
  {
   "cell_type": "markdown",
   "metadata": {},
   "source": [
    "Zoznam otazok na ktore pouzivatelia odpovedali"
   ]
  },
  {
   "cell_type": "code",
   "execution_count": null,
   "metadata": {},
   "outputs": [],
   "source": [
    "questions1=['Ako by ste popísali svoju celkovú spokojnosť s používaním tohto modelu na generovanie textu?',\n",
    "       'Ako by ste ohodnotili gramatickú správnosť a plynulosť výstupov modelu?',\n",
    "       'Sú výstupy modelu informatívne a zrozumiteľné? Ako by ste ich ohodnotili z hľadiska zmysluplnosti?',\n",
    "       'Ako by ste zhodnotili schopnosť modelu generovať relevantné odpovede na základe vašich vstupných otázok alebo informácií?',\n",
    "       'Ako jednoduché je porozumenie vystupov modelu?',\n",
    "       'Akú mieru dôveryhodnosti priradíte výstupom modelu na základe ich relevancie k vašim potrebám alebo otázke?'] \n",
    "\n",
    "question3=['Ako by ste popísali svoju celkovú spokojnosť s používaním tohto modelu na generovanie textu?.1',\n",
    "       'Ako by ste ohodnotili gramatickú správnosť a plynulosť výstupov modelu?.1',\n",
    "       'Sú výstupy modelu informatívne a zrozumiteľné? Ako by ste ich ohodnotili z hľadiska zmysluplnosti?.1',\n",
    "       'Ako by ste zhodnotili schopnosť modelu generovať relevantné odpovede na základe vašich vstupných otázok alebo informácií?.1',\n",
    "       'Ako jednoduché je porozumenie vystupov modelu?.1',\n",
    "       'Akú mieru dôveryhodnosti priradíte výstupom modelu na základe ich relevancie k vašim potrebám alebo otázke?.1',]\n",
    "\n",
    "questions2=[ 'S ktorym modelom a jeho vystupmy ste boli spokojnejsi?',\n",
    "       'Ktory model produkoval gramaticky správny a  plynulejši výstup?',\n",
    "       'Ktory model produkoval zmysluplnejší výstup?',\n",
    "       'Ktorý model produkoval relevantnejšie odpovode na Váš vstup?',\n",
    "       'Ktorý model mal jednoduchší výstup na pochopenie?',\n",
    "       'Ktorý model produkoval dôverihodnejší výstup?']"
   ]
  },
  {
   "cell_type": "code",
   "execution_count": null,
   "metadata": {},
   "outputs": [],
   "source": [
    "#Zistenie pocetnosti odpovedi v datasete\n",
    "df=chatbot_test\n",
    "response_freq1 = df[questions1].apply(pd.Series.value_counts)\n",
    "response_freq2 = df[questions2].apply(pd.Series.value_counts)\n",
    "response_freq1 = response_freq1.T\n",
    "response_freq2 = response_freq2.T\n",
    "import seaborn as sns\n",
    "\n",
    "#Farebne oznacenie otazok zelena su pozitivne odpovede , cervena negativne\n",
    "colors = {'Dobrá': '#4CAF50', \n",
    "          'Jednoduché': '#81C784', \n",
    "          'Priemerná': '#AED581', \n",
    "          'Priemerné': '#C5E1A5', \n",
    "          'Veľmi dobrá': '#8BC34A', \n",
    "          'Veľmi jednoduché': '#C5E1A5', \n",
    "          'Veľmi nezrozumitelne': '#FFCDD2', \n",
    "          'Veľmi náročné': '#EF9A9A', \n",
    "          'Veľmi zlá': '#F44336', \n",
    "          'Veľmi zrozumiteľné': '#4CAF50', \n",
    "          'Zlá': '#E57373', \n",
    "          'dostacujuco zrozumiteľné': '#FFCCBC', \n",
    "          'nezrozumitelne': '#FFCDD2'}\n",
    "\n",
    "ax1 = response_freq1.plot(kind='bar', stacked=True, figsize=(12, 8), color=[colors[col] for col in response_freq1.columns])\n",
    "plt.title('Vyber odpovedi zvlast pre model A/B')\n",
    "plt.ylabel('Frequency')\n",
    "plt.grid(axis='y', linestyle='--', alpha=0.7)\n",
    "\n",
    "ax1.axvline(x=5.5, color='black', linewidth=5)\n",
    "\n",
    "ax1.set_xticklabels([])\n",
    "\n",
    "handles1, labels1 = ax1.get_legend_handles_labels()\n",
    "ax1.legend(handles1[::-1], labels1[::-1], title='Responses', bbox_to_anchor=(1.05, 0.5), loc='center left')\n",
    "\n",
    "plt.tight_layout()\n",
    "plt.show()\n",
    "\n",
    "colors = {'Model A': '#4CAF50', \n",
    "          'Model B': '#A020F0'}\n",
    "\n",
    "ax2 = response_freq2.plot(kind='bar', stacked=True, figsize=(12, 8), color=[colors[col] for col in response_freq2.columns])\n",
    "plt.title('Vyber z modelov')\n",
    "plt.ylabel('Frequency')\n",
    "plt.grid(axis='y', linestyle='--', alpha=0.7)\n",
    "\n",
    "ax2.set_xticklabels([])\n",
    "\n",
    "handles2, labels2 = ax2.get_legend_handles_labels()\n",
    "ax2.legend(handles2[::-1], labels2[::-1], title='Responses', bbox_to_anchor=(1.05, 0.5), loc='center left')  \n",
    "\n",
    "plt.tight_layout()\n",
    "plt.show()"
   ]
  },
  {
   "cell_type": "markdown",
   "metadata": {},
   "source": [
    "Graficke znazornenie vyberu pouzivatelov pomocou farieb na jednotlive otazky "
   ]
  },
  {
   "cell_type": "code",
   "execution_count": null,
   "metadata": {},
   "outputs": [],
   "source": [
    "positive_responses = ['Dobrá', 'Jednoduché', 'Priemerná', 'Priemerné', 'Veľmi dobrá', 'Veľmi jednoduché', 'Veľmi zrozumiteľné']\n",
    "negative_responses = ['Veľmi nezrozumitelne', 'Veľmi náročné', 'Veľmi zlá', 'Zlá', 'nezrozumitelne']\n",
    "neutral_responses=['Priemerná','Priemerné','dostacujuco zrozumiteľné']\n",
    "def count_responses(column):\n",
    "    positive_count = sum(df[column].isin(positive_responses))\n",
    "    negative_count = sum(df[column].isin(negative_responses))\n",
    "    neutral_count = sum(df[column].isin(neutral_responses))\n",
    "    return positive_count, negative_count, neutral_count\n",
    "\n",
    "# Create subplots for each question\n",
    "fig, axs = plt.subplots(3, 2, figsize=(14, 14))\n",
    "\n",
    "# Iterate through each question\n",
    "for i, question in enumerate(questions1):\n",
    "    row = i // 2\n",
    "    col = i % 2\n",
    "    positive_count, negative_count, neutral_count = count_responses(question)\n",
    "    axs[row, col].pie([positive_count, negative_count, neutral_count], labels=['Pozitivne', 'Negativne','Neutralne'], autopct='%1.1f%%', colors=['lightgreen', 'lightcoral','yellow'])\n",
    "    axs[row, col].set_title(question, fontsize=7)\n",
    "\n",
    "# Adjust layout\n",
    "plt.tight_layout()\n",
    "plt.savefig('GPT_model.png')\n",
    "plt.show()\n",
    "\n",
    "\n",
    "fig, axs = plt.subplots(3, 2, figsize=(14, 14))\n",
    "\n",
    "# Iterate through each question\n",
    "for i, question in enumerate(questions3):\n",
    "    row = i // 2\n",
    "    col = i % 2\n",
    "    positive_count, negative_count, neutral_count = count_responses(question)\n",
    "    axs[row, col].pie([positive_count, negative_count, neutral_count], labels=['Pozitivne', 'Negativne','Neutralne'], autopct='%1.1f%%', colors=['lightgreen', 'lightcoral','yellow'])\n",
    "    axs[row, col].set_title(question, fontsize=7)\n",
    "\n",
    "# Adjust layout\n",
    "plt.tight_layout()\n",
    "plt.savefig('Gemini_model.png')\n",
    "plt.show()\n"
   ]
  }
 ],
 "metadata": {
  "kernelspec": {
   "display_name": "Python 3",
   "language": "python",
   "name": "python3"
  },
  "language_info": {
   "codemirror_mode": {
    "name": "ipython",
    "version": 3
   },
   "file_extension": ".py",
   "mimetype": "text/x-python",
   "name": "python",
   "nbconvert_exporter": "python",
   "pygments_lexer": "ipython3",
   "version": "3.10.11"
  }
 },
 "nbformat": 4,
 "nbformat_minor": 2
}
